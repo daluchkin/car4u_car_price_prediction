{
 "cells": [
  {
   "cell_type": "markdown",
   "id": "498ce458-e94d-4d62-bda6-6087df0a3210",
   "metadata": {},
   "source": [
    "[__Home__](../README.md) | [__Data Cleaning >>__](./02_Cars4u_data_cleaning.ipynb)\n",
    "\n",
    "\n",
    "# Cars4u: Car Price Prediction\n",
    "## Initial Data Exploration\n",
    "\n",
    "__Dataset:__ [Cars4u](https://www.kaggle.com/datasets/sukhmanibedi/cars4u) \\\n",
    "__Author:__ Dmitry Luchkin \\\n",
    "__Date:__ 2024-07-25\n",
    "\n",
    "__Objectives:__\n",
    "   - Import the dataset from a CSV file.\n",
    "   - Identify the missing values and duplicated rows.\n",
    "   - Explore data structure.\n",
    "\n",
    "## Table of content\n",
    "\n",
    "- [Dataset](#dataset)\n",
    "- [Notebooks](#notebooks)\n",
    "- [Importing Librarties](#import-libraries)\n",
    "- [Notebook Setup](#notebook-setup)\n",
    "- [Loading Data](#loading-data)\n",
    "- [Data Exploration](#data-exploration)\n",
    "  - [Check Data Types](#check-data-type)\n",
    "  - [Check Uniqueness Data](#check-uniqueness-data)\n",
    "  - [Cjeck Missing Values](#check-missing-values)\n",
    "  - [Check Duplicated Rows](#check-duplicated-rows)"
   ]
  },
  {
   "cell_type": "markdown",
   "id": "ec9af1e4-f5a4-4fb2-967a-078ca93fa9c7",
   "metadata": {},
   "source": [
    "## Dataset  <a  class=\"anchor\" name='dataset'></a>\n",
    "\n",
    "This dataset is a CSV file containing 7253 data points with information about used cars.\n",
    "\n",
    "__Description of Attributes:__\n",
    "\n",
    "| Attribute         | Description                                                      |\n",
    "|-------------------|------------------------------------------------------------------|\n",
    "| S.No.             | A unique identifier for each data point in the dataset.          |\n",
    "| Name              | The brand and model name of the used car.                        |\n",
    "| Location          | The city or location where the car is being sold.                |\n",
    "| Year              | The year the car was manufactured.                               |\n",
    "| Kilometers_Driven | The total distance the car has been driven, measured in kilometers. |\n",
    "| Fuel_Type         | The type of fuel the car uses, such as Petrol, Diesel, CNG, etc. |\n",
    "| Transmission      | The type of transmission in the car, such as Manual or Automatic. |\n",
    "| Owner_Type        | The ownership status of the car, such as First Owner, Second Owner, etc. |\n",
    "| Mileage           | The fuel efficiency of the car, typically measured in kilometers per liter (km/l) or miles per gallon (mpg). |\n",
    "| Engine            | The displacement of the car's engine, typically measured in cubic centimeters (cc). |\n",
    "| Power             | The power output of the car's engine, typically measured in horsepower (BHP). |\n",
    "| Seats             | The total number of seats in the car.                            |\n",
    "| New_Price         | The original price of the car when it was new.                   |\n",
    "| Price             | The current selling price of the used car.                       |\n",
    "\n"
   ]
  },
  {
   "cell_type": "markdown",
   "id": "49839d70-4311-4a5b-ab47-8869e8d87147",
   "metadata": {},
   "source": [
    "## Notebooks <a class=\"anchor\" name='notebooks'></a>\n",
    "\n",
    "+ [__01_Cars4u_initial_data_exploration.ipynb__](./01_Cars4u_initial_data_exploration.ipynb)\n",
    "+ [02_Cars4u_data_cleaning.ipynb](./02_Cars4u_data_cleaning.ipynb)\n",
    "+ [03_Cars4u_exploratory_data_analysis.ipynb](./03_Cars4u_exploratory_data_analysis.ipynb)\n",
    "+ [04_Cars4u_feature_engineering.ipynb](./04_Cars4u_feature_engineering.ipynb)\n",
    "+ [05_Cars4u_modeling.ipynb](./05_Cars4u_modeling.ipynb)"
   ]
  },
  {
   "cell_type": "markdown",
   "id": "f86b950e-799c-4bfd-8bdc-c5c98cb3d509",
   "metadata": {},
   "source": [
    "## Import Libraries <a name='import-libraries'></a>"
   ]
  },
  {
   "cell_type": "code",
   "execution_count": 1,
   "id": "4925e3cc-7b0d-4274-81d4-2600f68c2bdd",
   "metadata": {},
   "outputs": [],
   "source": [
    "import datetime\n",
    "import sys\n",
    "\n",
    "import pandas as pd\n",
    "import numpy as np\n",
    "import statsmodels as sm\n",
    "import matplotlib\n",
    "import matplotlib.pyplot as plt\n",
    "import seaborn as sns\n",
    "\n",
    "%matplotlib inline"
   ]
  },
  {
   "cell_type": "markdown",
   "id": "2b1966d8-06c3-4508-b7b9-803b5b20da41",
   "metadata": {},
   "source": [
    "## Notebook Setup <a name='notebook-setup'></a>"
   ]
  },
  {
   "cell_type": "code",
   "execution_count": 2,
   "id": "2fb0a029-a0ca-4ad7-86b1-0267b7783a0b",
   "metadata": {},
   "outputs": [],
   "source": [
    "# Pandas settings\n",
    "pd.options.display.max_columns = None\n",
    "pd.options.display.max_colwidth = 60\n",
    "pd.options.display.float_format = '{:,.4f}'.format\n",
    "\n",
    "# Visualization settings\n",
    "from matplotlib import rcParams\n",
    "plt.style.use('fivethirtyeight')\n",
    "rcParams['figure.figsize'] = (16, 5)   \n",
    "rcParams['axes.spines.right'] = False\n",
    "rcParams['axes.spines.top'] = False\n",
    "rcParams['font.size'] = 12\n",
    "rcParams['savefig.dpi'] = 300\n",
    "plt.rc('xtick', labelsize=11)\n",
    "plt.rc('ytick', labelsize=11)\n",
    "%config InlineBackend.figure_format = 'retina'"
   ]
  },
  {
   "cell_type": "markdown",
   "id": "ba4da935-ddc5-417d-a550-a5e473742cbc",
   "metadata": {},
   "source": [
    "## Loading Data <a name='loading-data'></a>"
   ]
  },
  {
   "cell_type": "markdown",
   "id": "2ded7b43-06ef-4da1-b49e-34b2e0f2ce0b",
   "metadata": {},
   "source": [
    "Have a quick look at the data."
   ]
  },
  {
   "cell_type": "code",
   "execution_count": 3,
   "id": "8f41ba18-75b0-4b7e-b199-173ba372ec2b",
   "metadata": {},
   "outputs": [
    {
     "name": "stdout",
     "output_type": "stream",
     "text": [
      "S.No.,Name,Location,Year,Kilometers_Driven,Fuel_Type,Transmission,Owner_Type,Mileage,Engine,Power,Seats,New_Price,Price\n",
      "0,Maruti Wagon R LXI CNG,Mumbai,2010,72000,CNG,Manual,First,26.6 km/kg,998 CC,58.16 bhp,5,,1.75\n",
      "1,Hyundai Creta 1.6 CRDi SX Option,Pune,2015,41000,Diesel,Manual,First,19.67 kmpl,1582 CC,126.2 bhp,5,,12.5\n",
      "2,Honda Jazz V,Chennai,2011,46000,Petrol,Manual,First,18.2 kmpl,1199 CC,88.7 bhp,5,8.61 Lakh,4.5\n",
      "3,Maruti Ertiga VDI,Chennai,2012,87000,Diesel,Manual,First,20.77 kmpl,1248 CC,88.76 bhp,7,,6\n",
      "4,Audi A4 New 2.0 TDI Multitronic,Coimbatore,2013,40670,Diesel,Automatic,Second,15.2 kmpl,1968 CC,140.8 bhp,5,,17.74\n",
      "5,Hyundai EON LPG Era Plus Option,Hyderabad,2012,75000,LPG,Manual,First,21.1 km/kg,814 CC,55.2 bhp,5,,2.35\n",
      "6,Nissan Micra Diesel XV,Jaipur,2013,86999,Diesel,Manual,First,23.08 kmpl,1461 CC,63.1 bhp,5,,3.5\n",
      "7,Toyota Innova Crysta 2.8 GX AT 8S,Mumbai,2016,36000,Diesel,Automatic,First,11.36 kmpl,2755 CC,171.5 bhp,8,21 Lakh,17.5\n",
      "8,Volkswagen Vento Diesel Comfortline,Pune,2013,64430,Diesel,Manual,First,20.54 kmpl,1598 CC,103.6 bhp,5,,5.2\n",
      "cat: stdout: Broken pipe\n"
     ]
    }
   ],
   "source": [
    "%cat ../00_data/00_raw/used_cars_data.csv | head"
   ]
  },
  {
   "cell_type": "markdown",
   "id": "2200612b-4400-43a4-8c1a-8e98c79880af",
   "metadata": {},
   "source": [
    "The dataset with comma-separated values, where the header is in the first row and points are used as decimal point."
   ]
  },
  {
   "cell_type": "code",
   "execution_count": 4,
   "id": "658e6d61-d607-48d6-ae79-6a22888495fc",
   "metadata": {},
   "outputs": [],
   "source": [
    "# loading data\n",
    "data = pd.read_csv('../00_data/00_raw/used_cars_data.csv')"
   ]
  },
  {
   "cell_type": "markdown",
   "id": "5277c5be-c9e1-417f-882f-3349c9927574",
   "metadata": {},
   "source": [
    "<a id='data-exploration'></a>"
   ]
  },
  {
   "cell_type": "markdown",
   "id": "77225557-87c0-44cf-b2cc-257171a05f4f",
   "metadata": {},
   "source": [
    "## Data Exploration"
   ]
  },
  {
   "cell_type": "code",
   "execution_count": 5,
   "id": "43ac19d3-d689-40b0-86a3-f01598f392de",
   "metadata": {},
   "outputs": [
    {
     "name": "stdout",
     "output_type": "stream",
     "text": [
      "Rows count: 7253, Columns count: 14\n"
     ]
    }
   ],
   "source": [
    "print(f'Rows count: {data.shape[0]}, Columns count: {data.shape[1]}')"
   ]
  },
  {
   "cell_type": "code",
   "execution_count": 6,
   "id": "034e59de-045c-46a6-8350-455c1f3e5d86",
   "metadata": {},
   "outputs": [
    {
     "data": {
      "text/plain": [
       "Index(['S.No.', 'Name', 'Location', 'Year', 'Kilometers_Driven', 'Fuel_Type',\n",
       "       'Transmission', 'Owner_Type', 'Mileage', 'Engine', 'Power', 'Seats',\n",
       "       'New_Price', 'Price'],\n",
       "      dtype='object')"
      ]
     },
     "execution_count": 6,
     "metadata": {},
     "output_type": "execute_result"
    }
   ],
   "source": [
    "data.columns"
   ]
  },
  {
   "cell_type": "code",
   "execution_count": 7,
   "id": "202d6b5d-fec1-4398-b66a-391c87e166dd",
   "metadata": {},
   "outputs": [
    {
     "data": {
      "text/html": [
       "<div>\n",
       "<style scoped>\n",
       "    .dataframe tbody tr th:only-of-type {\n",
       "        vertical-align: middle;\n",
       "    }\n",
       "\n",
       "    .dataframe tbody tr th {\n",
       "        vertical-align: top;\n",
       "    }\n",
       "\n",
       "    .dataframe thead th {\n",
       "        text-align: right;\n",
       "    }\n",
       "</style>\n",
       "<table border=\"1\" class=\"dataframe\">\n",
       "  <thead>\n",
       "    <tr style=\"text-align: right;\">\n",
       "      <th></th>\n",
       "      <th>S.No.</th>\n",
       "      <th>Name</th>\n",
       "      <th>Location</th>\n",
       "      <th>Year</th>\n",
       "      <th>Kilometers_Driven</th>\n",
       "      <th>Fuel_Type</th>\n",
       "      <th>Transmission</th>\n",
       "      <th>Owner_Type</th>\n",
       "      <th>Mileage</th>\n",
       "      <th>Engine</th>\n",
       "      <th>Power</th>\n",
       "      <th>Seats</th>\n",
       "      <th>New_Price</th>\n",
       "      <th>Price</th>\n",
       "    </tr>\n",
       "  </thead>\n",
       "  <tbody>\n",
       "    <tr>\n",
       "      <th>0</th>\n",
       "      <td>0</td>\n",
       "      <td>Maruti Wagon R LXI CNG</td>\n",
       "      <td>Mumbai</td>\n",
       "      <td>2010</td>\n",
       "      <td>72000</td>\n",
       "      <td>CNG</td>\n",
       "      <td>Manual</td>\n",
       "      <td>First</td>\n",
       "      <td>26.6 km/kg</td>\n",
       "      <td>998 CC</td>\n",
       "      <td>58.16 bhp</td>\n",
       "      <td>5.0000</td>\n",
       "      <td>NaN</td>\n",
       "      <td>1.7500</td>\n",
       "    </tr>\n",
       "    <tr>\n",
       "      <th>1</th>\n",
       "      <td>1</td>\n",
       "      <td>Hyundai Creta 1.6 CRDi SX Option</td>\n",
       "      <td>Pune</td>\n",
       "      <td>2015</td>\n",
       "      <td>41000</td>\n",
       "      <td>Diesel</td>\n",
       "      <td>Manual</td>\n",
       "      <td>First</td>\n",
       "      <td>19.67 kmpl</td>\n",
       "      <td>1582 CC</td>\n",
       "      <td>126.2 bhp</td>\n",
       "      <td>5.0000</td>\n",
       "      <td>NaN</td>\n",
       "      <td>12.5000</td>\n",
       "    </tr>\n",
       "    <tr>\n",
       "      <th>2</th>\n",
       "      <td>2</td>\n",
       "      <td>Honda Jazz V</td>\n",
       "      <td>Chennai</td>\n",
       "      <td>2011</td>\n",
       "      <td>46000</td>\n",
       "      <td>Petrol</td>\n",
       "      <td>Manual</td>\n",
       "      <td>First</td>\n",
       "      <td>18.2 kmpl</td>\n",
       "      <td>1199 CC</td>\n",
       "      <td>88.7 bhp</td>\n",
       "      <td>5.0000</td>\n",
       "      <td>8.61 Lakh</td>\n",
       "      <td>4.5000</td>\n",
       "    </tr>\n",
       "    <tr>\n",
       "      <th>3</th>\n",
       "      <td>3</td>\n",
       "      <td>Maruti Ertiga VDI</td>\n",
       "      <td>Chennai</td>\n",
       "      <td>2012</td>\n",
       "      <td>87000</td>\n",
       "      <td>Diesel</td>\n",
       "      <td>Manual</td>\n",
       "      <td>First</td>\n",
       "      <td>20.77 kmpl</td>\n",
       "      <td>1248 CC</td>\n",
       "      <td>88.76 bhp</td>\n",
       "      <td>7.0000</td>\n",
       "      <td>NaN</td>\n",
       "      <td>6.0000</td>\n",
       "    </tr>\n",
       "    <tr>\n",
       "      <th>4</th>\n",
       "      <td>4</td>\n",
       "      <td>Audi A4 New 2.0 TDI Multitronic</td>\n",
       "      <td>Coimbatore</td>\n",
       "      <td>2013</td>\n",
       "      <td>40670</td>\n",
       "      <td>Diesel</td>\n",
       "      <td>Automatic</td>\n",
       "      <td>Second</td>\n",
       "      <td>15.2 kmpl</td>\n",
       "      <td>1968 CC</td>\n",
       "      <td>140.8 bhp</td>\n",
       "      <td>5.0000</td>\n",
       "      <td>NaN</td>\n",
       "      <td>17.7400</td>\n",
       "    </tr>\n",
       "  </tbody>\n",
       "</table>\n",
       "</div>"
      ],
      "text/plain": [
       "   S.No.                              Name    Location  Year  \\\n",
       "0      0            Maruti Wagon R LXI CNG      Mumbai  2010   \n",
       "1      1  Hyundai Creta 1.6 CRDi SX Option        Pune  2015   \n",
       "2      2                      Honda Jazz V     Chennai  2011   \n",
       "3      3                 Maruti Ertiga VDI     Chennai  2012   \n",
       "4      4   Audi A4 New 2.0 TDI Multitronic  Coimbatore  2013   \n",
       "\n",
       "   Kilometers_Driven Fuel_Type Transmission Owner_Type     Mileage   Engine  \\\n",
       "0              72000       CNG       Manual      First  26.6 km/kg   998 CC   \n",
       "1              41000    Diesel       Manual      First  19.67 kmpl  1582 CC   \n",
       "2              46000    Petrol       Manual      First   18.2 kmpl  1199 CC   \n",
       "3              87000    Diesel       Manual      First  20.77 kmpl  1248 CC   \n",
       "4              40670    Diesel    Automatic     Second   15.2 kmpl  1968 CC   \n",
       "\n",
       "       Power  Seats  New_Price   Price  \n",
       "0  58.16 bhp 5.0000        NaN  1.7500  \n",
       "1  126.2 bhp 5.0000        NaN 12.5000  \n",
       "2   88.7 bhp 5.0000  8.61 Lakh  4.5000  \n",
       "3  88.76 bhp 7.0000        NaN  6.0000  \n",
       "4  140.8 bhp 5.0000        NaN 17.7400  "
      ]
     },
     "execution_count": 7,
     "metadata": {},
     "output_type": "execute_result"
    }
   ],
   "source": [
    "data.head()"
   ]
  },
  {
   "cell_type": "code",
   "execution_count": 8,
   "id": "f9fc2f39-a684-4183-9e70-4a256302bc7b",
   "metadata": {},
   "outputs": [
    {
     "data": {
      "text/html": [
       "<div>\n",
       "<style scoped>\n",
       "    .dataframe tbody tr th:only-of-type {\n",
       "        vertical-align: middle;\n",
       "    }\n",
       "\n",
       "    .dataframe tbody tr th {\n",
       "        vertical-align: top;\n",
       "    }\n",
       "\n",
       "    .dataframe thead th {\n",
       "        text-align: right;\n",
       "    }\n",
       "</style>\n",
       "<table border=\"1\" class=\"dataframe\">\n",
       "  <thead>\n",
       "    <tr style=\"text-align: right;\">\n",
       "      <th></th>\n",
       "      <th>S.No.</th>\n",
       "      <th>Name</th>\n",
       "      <th>Location</th>\n",
       "      <th>Year</th>\n",
       "      <th>Kilometers_Driven</th>\n",
       "      <th>Fuel_Type</th>\n",
       "      <th>Transmission</th>\n",
       "      <th>Owner_Type</th>\n",
       "      <th>Mileage</th>\n",
       "      <th>Engine</th>\n",
       "      <th>Power</th>\n",
       "      <th>Seats</th>\n",
       "      <th>New_Price</th>\n",
       "      <th>Price</th>\n",
       "    </tr>\n",
       "  </thead>\n",
       "  <tbody>\n",
       "    <tr>\n",
       "      <th>7248</th>\n",
       "      <td>7248</td>\n",
       "      <td>Volkswagen Vento Diesel Trendline</td>\n",
       "      <td>Hyderabad</td>\n",
       "      <td>2011</td>\n",
       "      <td>89411</td>\n",
       "      <td>Diesel</td>\n",
       "      <td>Manual</td>\n",
       "      <td>First</td>\n",
       "      <td>20.54 kmpl</td>\n",
       "      <td>1598 CC</td>\n",
       "      <td>103.6 bhp</td>\n",
       "      <td>5.0000</td>\n",
       "      <td>NaN</td>\n",
       "      <td>NaN</td>\n",
       "    </tr>\n",
       "    <tr>\n",
       "      <th>7249</th>\n",
       "      <td>7249</td>\n",
       "      <td>Volkswagen Polo GT TSI</td>\n",
       "      <td>Mumbai</td>\n",
       "      <td>2015</td>\n",
       "      <td>59000</td>\n",
       "      <td>Petrol</td>\n",
       "      <td>Automatic</td>\n",
       "      <td>First</td>\n",
       "      <td>17.21 kmpl</td>\n",
       "      <td>1197 CC</td>\n",
       "      <td>103.6 bhp</td>\n",
       "      <td>5.0000</td>\n",
       "      <td>NaN</td>\n",
       "      <td>NaN</td>\n",
       "    </tr>\n",
       "    <tr>\n",
       "      <th>7250</th>\n",
       "      <td>7250</td>\n",
       "      <td>Nissan Micra Diesel XV</td>\n",
       "      <td>Kolkata</td>\n",
       "      <td>2012</td>\n",
       "      <td>28000</td>\n",
       "      <td>Diesel</td>\n",
       "      <td>Manual</td>\n",
       "      <td>First</td>\n",
       "      <td>23.08 kmpl</td>\n",
       "      <td>1461 CC</td>\n",
       "      <td>63.1 bhp</td>\n",
       "      <td>5.0000</td>\n",
       "      <td>NaN</td>\n",
       "      <td>NaN</td>\n",
       "    </tr>\n",
       "    <tr>\n",
       "      <th>7251</th>\n",
       "      <td>7251</td>\n",
       "      <td>Volkswagen Polo GT TSI</td>\n",
       "      <td>Pune</td>\n",
       "      <td>2013</td>\n",
       "      <td>52262</td>\n",
       "      <td>Petrol</td>\n",
       "      <td>Automatic</td>\n",
       "      <td>Third</td>\n",
       "      <td>17.2 kmpl</td>\n",
       "      <td>1197 CC</td>\n",
       "      <td>103.6 bhp</td>\n",
       "      <td>5.0000</td>\n",
       "      <td>NaN</td>\n",
       "      <td>NaN</td>\n",
       "    </tr>\n",
       "    <tr>\n",
       "      <th>7252</th>\n",
       "      <td>7252</td>\n",
       "      <td>Mercedes-Benz E-Class 2009-2013 E 220 CDI Avantgarde</td>\n",
       "      <td>Kochi</td>\n",
       "      <td>2014</td>\n",
       "      <td>72443</td>\n",
       "      <td>Diesel</td>\n",
       "      <td>Automatic</td>\n",
       "      <td>First</td>\n",
       "      <td>10.0 kmpl</td>\n",
       "      <td>2148 CC</td>\n",
       "      <td>170 bhp</td>\n",
       "      <td>5.0000</td>\n",
       "      <td>NaN</td>\n",
       "      <td>NaN</td>\n",
       "    </tr>\n",
       "  </tbody>\n",
       "</table>\n",
       "</div>"
      ],
      "text/plain": [
       "      S.No.                                                  Name   Location  \\\n",
       "7248   7248                     Volkswagen Vento Diesel Trendline  Hyderabad   \n",
       "7249   7249                                Volkswagen Polo GT TSI     Mumbai   \n",
       "7250   7250                                Nissan Micra Diesel XV    Kolkata   \n",
       "7251   7251                                Volkswagen Polo GT TSI       Pune   \n",
       "7252   7252  Mercedes-Benz E-Class 2009-2013 E 220 CDI Avantgarde      Kochi   \n",
       "\n",
       "      Year  Kilometers_Driven Fuel_Type Transmission Owner_Type     Mileage  \\\n",
       "7248  2011              89411    Diesel       Manual      First  20.54 kmpl   \n",
       "7249  2015              59000    Petrol    Automatic      First  17.21 kmpl   \n",
       "7250  2012              28000    Diesel       Manual      First  23.08 kmpl   \n",
       "7251  2013              52262    Petrol    Automatic      Third   17.2 kmpl   \n",
       "7252  2014              72443    Diesel    Automatic      First   10.0 kmpl   \n",
       "\n",
       "       Engine      Power  Seats New_Price  Price  \n",
       "7248  1598 CC  103.6 bhp 5.0000       NaN    NaN  \n",
       "7249  1197 CC  103.6 bhp 5.0000       NaN    NaN  \n",
       "7250  1461 CC   63.1 bhp 5.0000       NaN    NaN  \n",
       "7251  1197 CC  103.6 bhp 5.0000       NaN    NaN  \n",
       "7252  2148 CC    170 bhp 5.0000       NaN    NaN  "
      ]
     },
     "execution_count": 8,
     "metadata": {},
     "output_type": "execute_result"
    }
   ],
   "source": [
    "data.tail()"
   ]
  },
  {
   "cell_type": "markdown",
   "id": "cf28a9d5-ff0e-4d07-a2e2-c04cb942386d",
   "metadata": {},
   "source": [
    "### Check Data Types <a name='check-data-type'></a>"
   ]
  },
  {
   "cell_type": "code",
   "execution_count": 9,
   "id": "8b80b23c-e47d-4745-b97d-65971420c669",
   "metadata": {},
   "outputs": [
    {
     "name": "stdout",
     "output_type": "stream",
     "text": [
      "<class 'pandas.core.frame.DataFrame'>\n",
      "RangeIndex: 7253 entries, 0 to 7252\n",
      "Data columns (total 14 columns):\n",
      " #   Column             Non-Null Count  Dtype  \n",
      "---  ------             --------------  -----  \n",
      " 0   S.No.              7253 non-null   int64  \n",
      " 1   Name               7253 non-null   object \n",
      " 2   Location           7253 non-null   object \n",
      " 3   Year               7253 non-null   int64  \n",
      " 4   Kilometers_Driven  7253 non-null   int64  \n",
      " 5   Fuel_Type          7253 non-null   object \n",
      " 6   Transmission       7253 non-null   object \n",
      " 7   Owner_Type         7253 non-null   object \n",
      " 8   Mileage            7251 non-null   object \n",
      " 9   Engine             7207 non-null   object \n",
      " 10  Power              7207 non-null   object \n",
      " 11  Seats              7200 non-null   float64\n",
      " 12  New_Price          1006 non-null   object \n",
      " 13  Price              6019 non-null   float64\n",
      "dtypes: float64(2), int64(3), object(9)\n",
      "memory usage: 793.4+ KB\n"
     ]
    }
   ],
   "source": [
    "data.info()"
   ]
  },
  {
   "cell_type": "markdown",
   "id": "49f87ab0-9d97-4fd4-8a28-75812b766226",
   "metadata": {},
   "source": [
    "### Check uniqueness of data <a name='check-uniqueness-data'></a>"
   ]
  },
  {
   "cell_type": "code",
   "execution_count": 10,
   "id": "2b07db0e-3aa1-4b90-af6e-9dae2fd12290",
   "metadata": {},
   "outputs": [
    {
     "data": {
      "text/plain": [
       "Transmission            2\n",
       "Owner_Type              4\n",
       "Fuel_Type               5\n",
       "Seats                   9\n",
       "Location               11\n",
       "Year                   23\n",
       "Engine                150\n",
       "Power                 386\n",
       "Mileage               450\n",
       "New_Price             625\n",
       "Price                1373\n",
       "Name                 2041\n",
       "Kilometers_Driven    3660\n",
       "S.No.                7253\n",
       "dtype: int64"
      ]
     },
     "execution_count": 10,
     "metadata": {},
     "output_type": "execute_result"
    }
   ],
   "source": [
    "num_unique = data.nunique().sort_values()\n",
    "num_unique"
   ]
  },
  {
   "cell_type": "code",
   "execution_count": 11,
   "id": "138ccd60-a705-4a45-9c42-6a067276ae11",
   "metadata": {},
   "outputs": [
    {
     "name": "stdout",
     "output_type": "stream",
     "text": [
      "--- Percentage Similarity of Values (%) ---\n",
      "Transmission        50.0000\n",
      "Owner_Type          25.0000\n",
      "Fuel_Type           20.0000\n",
      "Seats               11.1111\n",
      "Location             9.0909\n",
      "Year                 4.3478\n",
      "Engine               0.6667\n",
      "Power                0.2591\n",
      "Mileage              0.2222\n",
      "New_Price            0.1600\n",
      "Price                0.0728\n",
      "Name                 0.0490\n",
      "Kilometers_Driven    0.0273\n",
      "S.No.                0.0138\n",
      "dtype: float64\n"
     ]
    }
   ],
   "source": [
    "print('--- Percentage Similarity of Values (%) ---')\n",
    "print(100/num_unique)"
   ]
  },
  {
   "cell_type": "markdown",
   "id": "6ce84707-72ca-43da-9461-ff4cfaead7c5",
   "metadata": {},
   "source": [
    "__Orservations:__\n",
    "+ This dataset consists of __7253__ rows and __14__ columns which contain the information about used cars.\n",
    "+ `Name`, `Location`, `Fuel_Type`, `Transmission`, `Owner_Type`, `Mileage`, `Engine`, `Power`, `New_Price` are __string__.\n",
    "+ `S.No`, `Year`, `Kilometers_Driven`,  are __integer__.\n",
    "+ `Seats` and `Price` are __float__.\n",
    "+ `S.No.` is a sequential number or index that we already have in data frame by default.\\\n",
    "  <span style=\"color:blue\">_# TODO: Drop S.No. column._</span>\n",
    "+ `Name` has __2041__ unique values, the column contains a brand/manufacturer, model and some code of modification.\\\n",
    "  <span style=\"color:blue\">_# TODO: Split Name column into two columns: Brand and Model, omit the rest codes, convert to category type._</span>\n",
    "+ `Location` has __11__ unique values and represents a city where a used car is is being sold.\\\n",
    "  <span style=\"color:blue\">_# TODO: Convert Location column to a category type._</span>\n",
    "+ `Fuel_Type` has __5__ unique values.\\\n",
    "  <span style=\"color:blue\">_# TODO: Convert Fuel_Type column to a category type._</span>\n",
    "+ `Transmission` has __2__ unique values.\\\n",
    "  <span style=\"color:blue\">_# TODO: Convert Transmission column to a category type._</span>\n",
    "+ `Owner_Type` has __4__ unique values.\\\n",
    "  <span style=\"color:blue\">_# TODO: Convert Owner_Type column to a category type._</span>\n",
    "+ `Mileage` represents how much distance a car can drive on one liter/kg of fuel.\\\n",
    "  <span style=\"color:blue\">_# TODO: Convert Mileage column to numeric type and make a column for units._</span>\n",
    "+ `Engine` represents the total volume of all the cylinders in an engine.\\\n",
    "  <span style=\"color:blue\">_# TODO: Convert Engine column to numeric type._</span>\n",
    "+ `Power` represents a measure of an engine's horsepower.\\\n",
    "  <span style=\"color:blue\">_# TODO: Convert Power column to numeric type._</span>\n",
    "+ `Seats` has __9__ unique values and represents a number of seats into a used car.\\\n",
    "  <span style=\"color:blue\">_# TODO: Convert Seats column to an integer type._</span>\n",
    "+ `New_Price` represents a price of a new car.\\\n",
    "  <span style=\"color:blue\">_# TODO: Convert New_Price column to an float type._</span>"
   ]
  },
  {
   "cell_type": "markdown",
   "id": "7618421e-01d2-4f22-8cfd-b55b35a6913b",
   "metadata": {},
   "source": [
    "### Check Missing Values <a name='check-missing-values'></a>"
   ]
  },
  {
   "cell_type": "code",
   "execution_count": 12,
   "id": "d73efd6b-f94e-4853-b4fe-911a0f27fe35",
   "metadata": {},
   "outputs": [
    {
     "data": {
      "text/plain": [
       "S.No.                   0\n",
       "Name                    0\n",
       "Location                0\n",
       "Year                    0\n",
       "Kilometers_Driven       0\n",
       "Fuel_Type               0\n",
       "Transmission            0\n",
       "Owner_Type              0\n",
       "Mileage                 2\n",
       "Engine                 46\n",
       "Power                  46\n",
       "Seats                  53\n",
       "New_Price            6247\n",
       "Price                1234\n",
       "dtype: int64"
      ]
     },
     "execution_count": 12,
     "metadata": {},
     "output_type": "execute_result"
    }
   ],
   "source": [
    "data.isnull().sum()"
   ]
  },
  {
   "cell_type": "code",
   "execution_count": 13,
   "id": "99f07435-ba00-4a55-870b-5e10e099a8f4",
   "metadata": {},
   "outputs": [
    {
     "data": {
      "text/plain": [
       "S.No.                0.0000\n",
       "Name                 0.0000\n",
       "Location             0.0000\n",
       "Year                 0.0000\n",
       "Kilometers_Driven    0.0000\n",
       "Fuel_Type            0.0000\n",
       "Transmission         0.0000\n",
       "Owner_Type           0.0000\n",
       "Mileage              0.0276\n",
       "Engine               0.6342\n",
       "Power                0.6342\n",
       "Seats                0.7307\n",
       "New_Price           86.1299\n",
       "Price               17.0136\n",
       "dtype: float64"
      ]
     },
     "execution_count": 13,
     "metadata": {},
     "output_type": "execute_result"
    }
   ],
   "source": [
    "# percentage of missing values per column\n",
    "data.isnull().sum()/len(data)*100"
   ]
  },
  {
   "cell_type": "markdown",
   "id": "3896f79f-2d30-4d71-8434-8e4ab63ed352",
   "metadata": {},
   "source": [
    "__Observations__:\n",
    "+ `Mileage` has ~0.2% missing values in the column.\n",
    "+ `Engine` has ~0.6% missing values in the column.\n",
    "+ `Power` has ~0.6% missing values in the column.\n",
    "+ `Seats` has ~0.7% missing values in the column.\n",
    "+ `New_Price` has ~86% missing values in the column.\n",
    "+ `Price` has ~17% missing values in the column.\n",
    "\n",
    "<span style=\"color:blue\">_# TODO: Handle missing values in: Mileage, Engine, Power, Seats, New_Price, Price._</span>"
   ]
  },
  {
   "cell_type": "markdown",
   "id": "d05719c4-f7e0-4166-8351-030ed3ba44ae",
   "metadata": {},
   "source": [
    "### Check for duplicated rows <a name='check-duplicated-rows'></a>"
   ]
  },
  {
   "cell_type": "code",
   "execution_count": 14,
   "id": "c69e7a1e-76dc-4760-90e5-b55a11acb698",
   "metadata": {},
   "outputs": [
    {
     "name": "stdout",
     "output_type": "stream",
     "text": [
      "No. of entirely duplicated rows: 0\n"
     ]
    }
   ],
   "source": [
    "print(f'No. of entirely duplicated rows: {data.duplicated().sum()}')"
   ]
  },
  {
   "cell_type": "markdown",
   "id": "d3812050-f0c1-4abb-8bfb-2cdc98787c6e",
   "metadata": {},
   "source": [
    "__Observations:__\n",
    "- There are no duplicated rows."
   ]
  },
  {
   "cell_type": "markdown",
   "id": "bbbbbd54-a233-4663-9b44-a4e62a174cfa",
   "metadata": {},
   "source": [
    "\n",
    "---\n",
    "\\\n",
    "[__Home__](../README.md) | [__Data Cleaning >>__](./02_Cars4u_data_cleaning.ipynb)\n",
    "\\\n",
    "\\\n",
    "Cars4u: Car Price Prediction, _August 2024_"
   ]
  }
 ],
 "metadata": {
  "kernelspec": {
   "display_name": "Python 3 (ipykernel)",
   "language": "python",
   "name": "python3"
  },
  "language_info": {
   "codemirror_mode": {
    "name": "ipython",
    "version": 3
   },
   "file_extension": ".py",
   "mimetype": "text/x-python",
   "name": "python",
   "nbconvert_exporter": "python",
   "pygments_lexer": "ipython3",
   "version": "3.12.4"
  }
 },
 "nbformat": 4,
 "nbformat_minor": 5
}
